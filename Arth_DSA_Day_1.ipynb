{
 "cells": [
  {
   "cell_type": "markdown",
   "metadata": {},
   "source": [
    "## 1\n",
    "The Fibonacci sequence is defined as follows: the first number of the sequence is 0, the \n",
    "second number is 1 and the nth number is the sum of the (n - 1)th and (n - 2)th numbers. Write a \n",
    "function that takes in an integer n and returns the nth Fibonacci number."
   ]
  },
  {
   "cell_type": "code",
   "execution_count": 20,
   "metadata": {},
   "outputs": [],
   "source": [
    "#n = int(input(\"Enter number of terms:\"))\n",
    "#n1 = 0\n",
    "#n2 = 1\n",
    "def fib(n):\n",
    "    if n==2:\n",
    "        return 1\n",
    "    if n==1:\n",
    "        return 0\n",
    "    else:\n",
    "        return fib(n-1)+fib(n-2)\n",
    "\n",
    "            \n",
    "        "
   ]
  },
  {
   "cell_type": "code",
   "execution_count": 21,
   "metadata": {},
   "outputs": [
    {
     "data": {
      "text/plain": [
       "8"
      ]
     },
     "execution_count": 21,
     "metadata": {},
     "output_type": "execute_result"
    }
   ],
   "source": [
    "fib(7)"
   ]
  },
  {
   "cell_type": "markdown",
   "metadata": {},
   "source": [
    "## 2\n",
    "Write a function that takes in a \"special\" array and returns its product sum.\n",
    " A \"special\" array is a non-empty array that contains either integers or other\n",
    " \"special\" arrays. The product sum of a \"special\" array is the sum of its\n",
    " elements, where \"special\" arrays inside it are summed themselves and then\n",
    " multiplied by their level of depth.\n",
    " The depth of a \"special\" array is how far nested it is. For instance, the\n",
    " depth of []is 1; the depth of the inner array in\n",
    " [[]] is 2; the depth of the innermost array in\n",
    " [[[]]] is 3.\n",
    " Therefore, the product sum of [x, y] is x + y; the\n",
    " product sum of [x, [y, z]] is x + 2 * (y + z); the\n",
    " product sum of [x, [y, [z]]] is x + 2 * (y + 3z)"
   ]
  },
  {
   "cell_type": "code",
   "execution_count": 7,
   "metadata": {},
   "outputs": [],
   "source": [
    "def special(a, m=1):\n",
    "    sum = 0 \n",
    "    for i in a:\n",
    "        if type(i) is list:\n",
    "            sum += special(i, m+1)\n",
    "            print(i,m)\n",
    "        else:\n",
    "            sum += i\n",
    "    return sum*m"
   ]
  },
  {
   "cell_type": "code",
   "execution_count": 8,
   "metadata": {},
   "outputs": [
    {
     "name": "stdout",
     "output_type": "stream",
     "text": [
      "[7, -1] 1\n",
      "[-13, 8] 2\n",
      "[6, [-13, 8], 4] 1\n"
     ]
    },
    {
     "data": {
      "text/plain": [
       "12"
      ]
     },
     "execution_count": 8,
     "metadata": {},
     "output_type": "execute_result"
    }
   ],
   "source": [
    "special([5,2,[7,-1],3,[6,[-13,8],4]])"
   ]
  },
  {
   "cell_type": "markdown",
   "metadata": {},
   "source": [
    "## 3"
   ]
  },
  {
   "cell_type": "markdown",
   "metadata": {},
   "source": [
    "Write a function that takes in an array of unique integers and returns an array of all permutations of those integers in no particular order.\n",
    "If the input array is empty, the function should return an empty array.\n"
   ]
  },
  {
   "cell_type": "markdown",
   "metadata": {},
   "source": [
    "### a."
   ]
  },
  {
   "cell_type": "code",
   "execution_count": 14,
   "metadata": {},
   "outputs": [],
   "source": [
    "def order(a):\n",
    "    p = []\n",
    "    sub(a , [], p)\n",
    "    return p\n",
    "\n",
    "def sub(a, curr, p):\n",
    "    if not len(a) and len(curr):\n",
    "        p.append(curr)\n",
    "    else:\n",
    "        for i in range(len(a)):\n",
    "            b = a[:i] + a[i+1:]\n",
    "            q = curr + [a[i]]\n",
    "            sub(b,q,p)\n",
    "        \n",
    "            \n",
    "        "
   ]
  },
  {
   "cell_type": "code",
   "execution_count": 15,
   "metadata": {},
   "outputs": [
    {
     "data": {
      "text/plain": [
       "[[1, 2, 3], [1, 3, 2], [2, 1, 3], [2, 3, 1], [3, 1, 2], [3, 2, 1]]"
      ]
     },
     "execution_count": 15,
     "metadata": {},
     "output_type": "execute_result"
    }
   ],
   "source": [
    "order([1,2,3])"
   ]
  },
  {
   "cell_type": "markdown",
   "metadata": {},
   "source": [
    "### b"
   ]
  },
  {
   "cell_type": "code",
   "execution_count": 12,
   "metadata": {},
   "outputs": [],
   "source": [
    "def order(a):\n",
    "    p = []\n",
    "    sub(0, a, p)\n",
    "    return p\n",
    "\n",
    "def sub(i, a, p):\n",
    "    if i== len(a)-1:\n",
    "        p.append(a[:])\n",
    "    else:\n",
    "        for j in range(i, len(a)):\n",
    "            swap(a, i, j)\n",
    "            sub(i+1,a,p)\n",
    "            swap(a, i, j)\n",
    "            \n",
    "def swap(a, i , j):\n",
    "    a[i], a[j] = a[j], a[i]\n",
    "        \n",
    "            \n",
    "        "
   ]
  },
  {
   "cell_type": "code",
   "execution_count": 13,
   "metadata": {},
   "outputs": [
    {
     "data": {
      "text/plain": [
       "[[1, 2, 3], [1, 3, 2], [2, 1, 3], [2, 3, 1], [3, 2, 1], [3, 1, 2]]"
      ]
     },
     "execution_count": 13,
     "metadata": {},
     "output_type": "execute_result"
    }
   ],
   "source": [
    "order([1,2,3])"
   ]
  },
  {
   "cell_type": "code",
   "execution_count": null,
   "metadata": {},
   "outputs": [],
   "source": []
  }
 ],
 "metadata": {
  "kernelspec": {
   "display_name": "Python 3",
   "language": "python",
   "name": "python3"
  },
  "language_info": {
   "codemirror_mode": {
    "name": "ipython",
    "version": 3
   },
   "file_extension": ".py",
   "mimetype": "text/x-python",
   "name": "python",
   "nbconvert_exporter": "python",
   "pygments_lexer": "ipython3",
   "version": "3.6.13"
  }
 },
 "nbformat": 4,
 "nbformat_minor": 4
}
